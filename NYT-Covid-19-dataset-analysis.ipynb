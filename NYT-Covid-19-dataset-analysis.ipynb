{
 "cells": [
  {
   "cell_type": "code",
   "execution_count": 1,
   "metadata": {
    "ExecuteTime": {
     "end_time": "2020-04-02T22:49:59.694914Z",
     "start_time": "2020-04-02T22:49:58.032670Z"
    }
   },
   "outputs": [],
   "source": [
    "from __future__ import print_function\n",
    "import pandas as pd\n",
    "import plotly\n",
    "\n",
    "from ipywidgets import interact, interactive, fixed, interact_manual\n",
    "import ipywidgets as widgets"
   ]
  },
  {
   "cell_type": "code",
   "execution_count": 2,
   "metadata": {
    "ExecuteTime": {
     "end_time": "2020-04-02T22:49:59.762983Z",
     "start_time": "2020-04-02T22:49:59.724512Z"
    }
   },
   "outputs": [],
   "source": [
    "us_counties = pd.read_csv('us-counties.csv')\n",
    "us_states = pd.read_csv('us-states.csv')"
   ]
  },
  {
   "cell_type": "code",
   "execution_count": 24,
   "metadata": {
    "ExecuteTime": {
     "end_time": "2020-04-02T22:58:49.158149Z",
     "start_time": "2020-04-02T22:58:49.138618Z"
    }
   },
   "outputs": [
    {
     "name": "stdout",
     "output_type": "stream",
     "text": [
      "55\n"
     ]
    },
    {
     "data": {
      "text/html": [
       "<div>\n",
       "<style scoped>\n",
       "    .dataframe tbody tr th:only-of-type {\n",
       "        vertical-align: middle;\n",
       "    }\n",
       "\n",
       "    .dataframe tbody tr th {\n",
       "        vertical-align: top;\n",
       "    }\n",
       "\n",
       "    .dataframe thead th {\n",
       "        text-align: right;\n",
       "    }\n",
       "</style>\n",
       "<table border=\"1\" class=\"dataframe\">\n",
       "  <thead>\n",
       "    <tr style=\"text-align: right;\">\n",
       "      <th></th>\n",
       "      <th>date</th>\n",
       "      <th>county</th>\n",
       "      <th>state</th>\n",
       "      <th>fips</th>\n",
       "      <th>cases</th>\n",
       "      <th>deaths</th>\n",
       "    </tr>\n",
       "  </thead>\n",
       "  <tbody>\n",
       "    <tr>\n",
       "      <th>0</th>\n",
       "      <td>2020-01-21</td>\n",
       "      <td>Snohomish</td>\n",
       "      <td>Washington</td>\n",
       "      <td>53061.0</td>\n",
       "      <td>1</td>\n",
       "      <td>0</td>\n",
       "    </tr>\n",
       "    <tr>\n",
       "      <th>1</th>\n",
       "      <td>2020-01-22</td>\n",
       "      <td>Snohomish</td>\n",
       "      <td>Washington</td>\n",
       "      <td>53061.0</td>\n",
       "      <td>1</td>\n",
       "      <td>0</td>\n",
       "    </tr>\n",
       "    <tr>\n",
       "      <th>2</th>\n",
       "      <td>2020-01-23</td>\n",
       "      <td>Snohomish</td>\n",
       "      <td>Washington</td>\n",
       "      <td>53061.0</td>\n",
       "      <td>1</td>\n",
       "      <td>0</td>\n",
       "    </tr>\n",
       "    <tr>\n",
       "      <th>3</th>\n",
       "      <td>2020-01-24</td>\n",
       "      <td>Cook</td>\n",
       "      <td>Illinois</td>\n",
       "      <td>17031.0</td>\n",
       "      <td>1</td>\n",
       "      <td>0</td>\n",
       "    </tr>\n",
       "    <tr>\n",
       "      <th>4</th>\n",
       "      <td>2020-01-24</td>\n",
       "      <td>Snohomish</td>\n",
       "      <td>Washington</td>\n",
       "      <td>53061.0</td>\n",
       "      <td>1</td>\n",
       "      <td>0</td>\n",
       "    </tr>\n",
       "  </tbody>\n",
       "</table>\n",
       "</div>"
      ],
      "text/plain": [
       "         date     county       state     fips  cases  deaths\n",
       "0  2020-01-21  Snohomish  Washington  53061.0      1       0\n",
       "1  2020-01-22  Snohomish  Washington  53061.0      1       0\n",
       "2  2020-01-23  Snohomish  Washington  53061.0      1       0\n",
       "3  2020-01-24       Cook    Illinois  17031.0      1       0\n",
       "4  2020-01-24  Snohomish  Washington  53061.0      1       0"
      ]
     },
     "execution_count": 24,
     "metadata": {},
     "output_type": "execute_result"
    }
   ],
   "source": [
    "print(us_counties['state'].nunique())\n",
    "us_counties.head()"
   ]
  },
  {
   "cell_type": "code",
   "execution_count": 25,
   "metadata": {
    "ExecuteTime": {
     "end_time": "2020-04-02T22:59:00.790853Z",
     "start_time": "2020-04-02T22:59:00.754658Z"
    }
   },
   "outputs": [
    {
     "name": "stdout",
     "output_type": "stream",
     "text": [
      "55\n"
     ]
    },
    {
     "data": {
      "text/html": [
       "<div>\n",
       "<style scoped>\n",
       "    .dataframe tbody tr th:only-of-type {\n",
       "        vertical-align: middle;\n",
       "    }\n",
       "\n",
       "    .dataframe tbody tr th {\n",
       "        vertical-align: top;\n",
       "    }\n",
       "\n",
       "    .dataframe thead th {\n",
       "        text-align: right;\n",
       "    }\n",
       "</style>\n",
       "<table border=\"1\" class=\"dataframe\">\n",
       "  <thead>\n",
       "    <tr style=\"text-align: right;\">\n",
       "      <th></th>\n",
       "      <th>date</th>\n",
       "      <th>state</th>\n",
       "      <th>fips</th>\n",
       "      <th>cases</th>\n",
       "      <th>deaths</th>\n",
       "    </tr>\n",
       "  </thead>\n",
       "  <tbody>\n",
       "    <tr>\n",
       "      <th>0</th>\n",
       "      <td>2020-01-21</td>\n",
       "      <td>Washington</td>\n",
       "      <td>53</td>\n",
       "      <td>1</td>\n",
       "      <td>0</td>\n",
       "    </tr>\n",
       "    <tr>\n",
       "      <th>1</th>\n",
       "      <td>2020-01-22</td>\n",
       "      <td>Washington</td>\n",
       "      <td>53</td>\n",
       "      <td>1</td>\n",
       "      <td>0</td>\n",
       "    </tr>\n",
       "    <tr>\n",
       "      <th>2</th>\n",
       "      <td>2020-01-23</td>\n",
       "      <td>Washington</td>\n",
       "      <td>53</td>\n",
       "      <td>1</td>\n",
       "      <td>0</td>\n",
       "    </tr>\n",
       "    <tr>\n",
       "      <th>3</th>\n",
       "      <td>2020-01-24</td>\n",
       "      <td>Illinois</td>\n",
       "      <td>17</td>\n",
       "      <td>1</td>\n",
       "      <td>0</td>\n",
       "    </tr>\n",
       "    <tr>\n",
       "      <th>4</th>\n",
       "      <td>2020-01-24</td>\n",
       "      <td>Washington</td>\n",
       "      <td>53</td>\n",
       "      <td>1</td>\n",
       "      <td>0</td>\n",
       "    </tr>\n",
       "  </tbody>\n",
       "</table>\n",
       "</div>"
      ],
      "text/plain": [
       "         date       state  fips  cases  deaths\n",
       "0  2020-01-21  Washington    53      1       0\n",
       "1  2020-01-22  Washington    53      1       0\n",
       "2  2020-01-23  Washington    53      1       0\n",
       "3  2020-01-24    Illinois    17      1       0\n",
       "4  2020-01-24  Washington    53      1       0"
      ]
     },
     "execution_count": 25,
     "metadata": {},
     "output_type": "execute_result"
    }
   ],
   "source": [
    "print(us_states['state'].nunique())\n",
    "us_states.head()"
   ]
  },
  {
   "cell_type": "markdown",
   "metadata": {},
   "source": [
    "# get the latest date from each csv files"
   ]
  },
  {
   "cell_type": "code",
   "execution_count": 14,
   "metadata": {
    "ExecuteTime": {
     "end_time": "2020-04-02T22:52:45.548862Z",
     "start_time": "2020-04-02T22:52:45.530793Z"
    }
   },
   "outputs": [
    {
     "name": "stdout",
     "output_type": "stream",
     "text": [
      "2020-04-01 2020-04-01\n"
     ]
    }
   ],
   "source": [
    "date1 = us_counties['date'].max()\n",
    "date2 = us_counties['date'].max()\n",
    "print(date1, date2)"
   ]
  },
  {
   "cell_type": "markdown",
   "metadata": {},
   "source": [
    "# Check all country cases and deaths from each datasource"
   ]
  },
  {
   "cell_type": "code",
   "execution_count": 18,
   "metadata": {
    "ExecuteTime": {
     "end_time": "2020-04-02T22:55:22.858336Z",
     "start_time": "2020-04-02T22:55:22.844638Z"
    }
   },
   "outputs": [
    {
     "data": {
      "text/plain": [
       "(214461, 4841)"
      ]
     },
     "execution_count": 18,
     "metadata": {},
     "output_type": "execute_result"
    }
   ],
   "source": [
    "# states dataset\n",
    "\n",
    "us_states.loc[ (us_states['date']==date1)]['cases'].sum(),\\\n",
    "us_states.loc[  (us_states['date']==date1)]['deaths'].sum()"
   ]
  },
  {
   "cell_type": "code",
   "execution_count": 19,
   "metadata": {
    "ExecuteTime": {
     "end_time": "2020-04-02T22:55:43.124427Z",
     "start_time": "2020-04-02T22:55:43.105127Z"
    }
   },
   "outputs": [
    {
     "data": {
      "text/plain": [
       "(214682, 4551)"
      ]
     },
     "execution_count": 19,
     "metadata": {},
     "output_type": "execute_result"
    }
   ],
   "source": [
    "# counties dataset\n",
    "\n",
    "us_counties.loc[ (us_counties['date']==date1)]['cases'].sum(),\\\n",
    "us_counties.loc[ (us_counties['date']==date1)]['deaths'].sum()"
   ]
  },
  {
   "cell_type": "markdown",
   "metadata": {},
   "source": [
    "In this case, the per-state dataset reports a lower number of cases and a higher number of deaths, compared to counties dataset"
   ]
  },
  {
   "cell_type": "markdown",
   "metadata": {},
   "source": [
    "# check number of cases and deaths for one state"
   ]
  },
  {
   "cell_type": "code",
   "execution_count": 31,
   "metadata": {
    "ExecuteTime": {
     "end_time": "2020-04-02T23:01:50.120434Z",
     "start_time": "2020-04-02T23:01:50.106843Z"
    }
   },
   "outputs": [
    {
     "data": {
      "text/plain": [
       "(2440, 23)"
      ]
     },
     "execution_count": 31,
     "metadata": {},
     "output_type": "execute_result"
    }
   ],
   "source": [
    "state = 'Tennessee'\n",
    "\n",
    "us_states.loc[ (us_states['state']==state) & (us_states['date']==date1)]['cases'].sum(),\\\n",
    "us_states.loc[ (us_states['state']==state) & (us_states['date']==date1)]['deaths'].sum()\n"
   ]
  },
  {
   "cell_type": "code",
   "execution_count": 48,
   "metadata": {
    "ExecuteTime": {
     "end_time": "2020-04-02T23:17:39.571956Z",
     "start_time": "2020-04-02T23:17:39.530356Z"
    }
   },
   "outputs": [
    {
     "data": {
      "text/plain": [
       "(2248, 23)"
      ]
     },
     "execution_count": 48,
     "metadata": {},
     "output_type": "execute_result"
    }
   ],
   "source": [
    "state = 'Tennessee'\n",
    "\n",
    "us_counties.loc[ (us_counties['state']==state) & (us_counties['date']==date1) & (us_counties['county']!='Unknown') & (us_counties['county'].apply(lambda x: type(x)==str))]['cases'].sum(),\\\n",
    "us_counties.loc[ (us_counties['state']==state) & (us_counties['date']==date1) & (us_counties['county']!='Unknown')]['deaths'].sum()\n"
   ]
  },
  {
   "cell_type": "markdown",
   "metadata": {},
   "source": [
    "In this case, the per-state dataset reports a lower number of cases and a lower number of deaths, compared to counties dataset"
   ]
  },
  {
   "cell_type": "markdown",
   "metadata": {},
   "source": [
    "### could it be that a county was accidentally added to TN?"
   ]
  },
  {
   "cell_type": "code",
   "execution_count": 36,
   "metadata": {
    "ExecuteTime": {
     "end_time": "2020-04-02T23:02:54.605274Z",
     "start_time": "2020-04-02T23:02:54.588675Z"
    }
   },
   "outputs": [
    {
     "data": {
      "text/plain": [
       "79"
      ]
     },
     "execution_count": 36,
     "metadata": {},
     "output_type": "execute_result"
    }
   ],
   "source": [
    "date = '2020-03-31'\n",
    "us_counties.loc[ (us_counties['state']==state) & (us_counties['date']==date)]['county'].nunique()"
   ]
  },
  {
   "cell_type": "code",
   "execution_count": 38,
   "metadata": {
    "ExecuteTime": {
     "end_time": "2020-04-02T23:03:15.958256Z",
     "start_time": "2020-04-02T23:03:15.941339Z"
    }
   },
   "outputs": [
    {
     "data": {
      "text/plain": [
       "85"
      ]
     },
     "execution_count": 38,
     "metadata": {},
     "output_type": "execute_result"
    }
   ],
   "source": [
    "date = '2020-04-01'\n",
    "us_counties.loc[ (us_counties['state']==state) & (us_counties['date']==date)]['county'].nunique()"
   ]
  },
  {
   "cell_type": "code",
   "execution_count": 42,
   "metadata": {
    "ExecuteTime": {
     "end_time": "2020-04-02T23:04:51.762103Z",
     "start_time": "2020-04-02T23:04:51.730250Z"
    }
   },
   "outputs": [
    {
     "name": "stdout",
     "output_type": "stream",
     "text": [
      "['Clay', 'Grainger', 'Hickman', 'Lauderdale', 'Rhea', 'Sequatchie']\n"
     ]
    }
   ],
   "source": [
    "date = '2020-03-31'\n",
    "counties_march_31 = list(us_counties.loc[ (us_counties['state']==state) & (us_counties['date']==date)]['county'].unique())\n",
    "\n",
    "date = '2020-04-01'\n",
    "counties_april_1 = list(us_counties.loc[ (us_counties['state']==state) & (us_counties['date']==date)]['county'].unique())\n",
    "\n",
    "\n",
    "list_difference = []\n",
    "for item in counties_april_1:\n",
    "    if item not in counties_march_31:\n",
    "        list_difference.append(item)\n",
    "    \n",
    "print(list_difference)"
   ]
  },
  {
   "cell_type": "code",
   "execution_count": 50,
   "metadata": {
    "ExecuteTime": {
     "end_time": "2020-04-02T23:20:00.306706Z",
     "start_time": "2020-04-02T23:20:00.277868Z"
    }
   },
   "outputs": [
    {
     "data": {
      "text/html": [
       "<div>\n",
       "<style scoped>\n",
       "    .dataframe tbody tr th:only-of-type {\n",
       "        vertical-align: middle;\n",
       "    }\n",
       "\n",
       "    .dataframe tbody tr th {\n",
       "        vertical-align: top;\n",
       "    }\n",
       "\n",
       "    .dataframe thead th {\n",
       "        text-align: right;\n",
       "    }\n",
       "</style>\n",
       "<table border=\"1\" class=\"dataframe\">\n",
       "  <thead>\n",
       "    <tr style=\"text-align: right;\">\n",
       "      <th></th>\n",
       "      <th>date</th>\n",
       "      <th>county</th>\n",
       "      <th>state</th>\n",
       "      <th>fips</th>\n",
       "      <th>cases</th>\n",
       "      <th>deaths</th>\n",
       "    </tr>\n",
       "  </thead>\n",
       "  <tbody>\n",
       "    <tr>\n",
       "      <th>23562</th>\n",
       "      <td>2020-03-31</td>\n",
       "      <td>Obion</td>\n",
       "      <td>Tennessee</td>\n",
       "      <td>47131.0</td>\n",
       "      <td>1</td>\n",
       "      <td>0</td>\n",
       "    </tr>\n",
       "    <tr>\n",
       "      <th>23538</th>\n",
       "      <td>2020-03-31</td>\n",
       "      <td>Hardin</td>\n",
       "      <td>Tennessee</td>\n",
       "      <td>47071.0</td>\n",
       "      <td>1</td>\n",
       "      <td>0</td>\n",
       "    </tr>\n",
       "    <tr>\n",
       "      <th>23572</th>\n",
       "      <td>2020-03-31</td>\n",
       "      <td>Smith</td>\n",
       "      <td>Tennessee</td>\n",
       "      <td>47159.0</td>\n",
       "      <td>1</td>\n",
       "      <td>0</td>\n",
       "    </tr>\n",
       "    <tr>\n",
       "      <th>23541</th>\n",
       "      <td>2020-03-31</td>\n",
       "      <td>Henry</td>\n",
       "      <td>Tennessee</td>\n",
       "      <td>47079.0</td>\n",
       "      <td>1</td>\n",
       "      <td>0</td>\n",
       "    </tr>\n",
       "    <tr>\n",
       "      <th>23542</th>\n",
       "      <td>2020-03-31</td>\n",
       "      <td>Houston</td>\n",
       "      <td>Tennessee</td>\n",
       "      <td>47083.0</td>\n",
       "      <td>1</td>\n",
       "      <td>0</td>\n",
       "    </tr>\n",
       "    <tr>\n",
       "      <th>...</th>\n",
       "      <td>...</td>\n",
       "      <td>...</td>\n",
       "      <td>...</td>\n",
       "      <td>...</td>\n",
       "      <td>...</td>\n",
       "      <td>...</td>\n",
       "    </tr>\n",
       "    <tr>\n",
       "      <th>23579</th>\n",
       "      <td>2020-03-31</td>\n",
       "      <td>Unknown</td>\n",
       "      <td>Tennessee</td>\n",
       "      <td>NaN</td>\n",
       "      <td>109</td>\n",
       "      <td>9</td>\n",
       "    </tr>\n",
       "    <tr>\n",
       "      <th>23585</th>\n",
       "      <td>2020-03-31</td>\n",
       "      <td>Williamson</td>\n",
       "      <td>Tennessee</td>\n",
       "      <td>47187.0</td>\n",
       "      <td>111</td>\n",
       "      <td>0</td>\n",
       "    </tr>\n",
       "    <tr>\n",
       "      <th>23574</th>\n",
       "      <td>2020-03-31</td>\n",
       "      <td>Sumner</td>\n",
       "      <td>Tennessee</td>\n",
       "      <td>47165.0</td>\n",
       "      <td>164</td>\n",
       "      <td>0</td>\n",
       "    </tr>\n",
       "    <tr>\n",
       "      <th>23571</th>\n",
       "      <td>2020-03-31</td>\n",
       "      <td>Shelby</td>\n",
       "      <td>Tennessee</td>\n",
       "      <td>47157.0</td>\n",
       "      <td>396</td>\n",
       "      <td>1</td>\n",
       "    </tr>\n",
       "    <tr>\n",
       "      <th>23524</th>\n",
       "      <td>2020-03-31</td>\n",
       "      <td>Davidson</td>\n",
       "      <td>Tennessee</td>\n",
       "      <td>47037.0</td>\n",
       "      <td>541</td>\n",
       "      <td>3</td>\n",
       "    </tr>\n",
       "  </tbody>\n",
       "</table>\n",
       "<p>79 rows × 6 columns</p>\n",
       "</div>"
      ],
      "text/plain": [
       "             date      county      state     fips  cases  deaths\n",
       "23562  2020-03-31       Obion  Tennessee  47131.0      1       0\n",
       "23538  2020-03-31      Hardin  Tennessee  47071.0      1       0\n",
       "23572  2020-03-31       Smith  Tennessee  47159.0      1       0\n",
       "23541  2020-03-31       Henry  Tennessee  47079.0      1       0\n",
       "23542  2020-03-31     Houston  Tennessee  47083.0      1       0\n",
       "...           ...         ...        ...      ...    ...     ...\n",
       "23579  2020-03-31     Unknown  Tennessee      NaN    109       9\n",
       "23585  2020-03-31  Williamson  Tennessee  47187.0    111       0\n",
       "23574  2020-03-31      Sumner  Tennessee  47165.0    164       0\n",
       "23571  2020-03-31      Shelby  Tennessee  47157.0    396       1\n",
       "23524  2020-03-31    Davidson  Tennessee  47037.0    541       3\n",
       "\n",
       "[79 rows x 6 columns]"
      ]
     },
     "execution_count": 50,
     "metadata": {},
     "output_type": "execute_result"
    }
   ],
   "source": [
    "state = 'Tennessee'\n",
    "date = '2020-03-31'\n",
    "us_counties.loc[ (us_counties['state']==state) & (us_counties['date']==date)].sort_values(by='cases')"
   ]
  },
  {
   "cell_type": "code",
   "execution_count": 49,
   "metadata": {
    "ExecuteTime": {
     "end_time": "2020-04-02T23:19:53.189624Z",
     "start_time": "2020-04-02T23:19:53.142100Z"
    }
   },
   "outputs": [
    {
     "data": {
      "text/html": [
       "<div>\n",
       "<style scoped>\n",
       "    .dataframe tbody tr th:only-of-type {\n",
       "        vertical-align: middle;\n",
       "    }\n",
       "\n",
       "    .dataframe tbody tr th {\n",
       "        vertical-align: top;\n",
       "    }\n",
       "\n",
       "    .dataframe thead th {\n",
       "        text-align: right;\n",
       "    }\n",
       "</style>\n",
       "<table border=\"1\" class=\"dataframe\">\n",
       "  <thead>\n",
       "    <tr style=\"text-align: right;\">\n",
       "      <th></th>\n",
       "      <th>date</th>\n",
       "      <th>county</th>\n",
       "      <th>state</th>\n",
       "      <th>fips</th>\n",
       "      <th>cases</th>\n",
       "      <th>deaths</th>\n",
       "    </tr>\n",
       "  </thead>\n",
       "  <tbody>\n",
       "    <tr>\n",
       "      <th>25758</th>\n",
       "      <td>2020-04-01</td>\n",
       "      <td>Lauderdale</td>\n",
       "      <td>Tennessee</td>\n",
       "      <td>47097.0</td>\n",
       "      <td>1</td>\n",
       "      <td>0</td>\n",
       "    </tr>\n",
       "    <tr>\n",
       "      <th>25751</th>\n",
       "      <td>2020-04-01</td>\n",
       "      <td>Henry</td>\n",
       "      <td>Tennessee</td>\n",
       "      <td>47079.0</td>\n",
       "      <td>1</td>\n",
       "      <td>0</td>\n",
       "    </tr>\n",
       "    <tr>\n",
       "      <th>25752</th>\n",
       "      <td>2020-04-01</td>\n",
       "      <td>Hickman</td>\n",
       "      <td>Tennessee</td>\n",
       "      <td>47081.0</td>\n",
       "      <td>1</td>\n",
       "      <td>0</td>\n",
       "    </tr>\n",
       "    <tr>\n",
       "      <th>25753</th>\n",
       "      <td>2020-04-01</td>\n",
       "      <td>Houston</td>\n",
       "      <td>Tennessee</td>\n",
       "      <td>47083.0</td>\n",
       "      <td>1</td>\n",
       "      <td>0</td>\n",
       "    </tr>\n",
       "    <tr>\n",
       "      <th>25738</th>\n",
       "      <td>2020-04-01</td>\n",
       "      <td>Fentress</td>\n",
       "      <td>Tennessee</td>\n",
       "      <td>47049.0</td>\n",
       "      <td>1</td>\n",
       "      <td>0</td>\n",
       "    </tr>\n",
       "    <tr>\n",
       "      <th>...</th>\n",
       "      <td>...</td>\n",
       "      <td>...</td>\n",
       "      <td>...</td>\n",
       "      <td>...</td>\n",
       "      <td>...</td>\n",
       "      <td>...</td>\n",
       "    </tr>\n",
       "    <tr>\n",
       "      <th>25799</th>\n",
       "      <td>2020-04-01</td>\n",
       "      <td>Williamson</td>\n",
       "      <td>Tennessee</td>\n",
       "      <td>47187.0</td>\n",
       "      <td>148</td>\n",
       "      <td>2</td>\n",
       "    </tr>\n",
       "    <tr>\n",
       "      <th>25788</th>\n",
       "      <td>2020-04-01</td>\n",
       "      <td>Sumner</td>\n",
       "      <td>Tennessee</td>\n",
       "      <td>47165.0</td>\n",
       "      <td>201</td>\n",
       "      <td>7</td>\n",
       "    </tr>\n",
       "    <tr>\n",
       "      <th>25793</th>\n",
       "      <td>2020-04-01</td>\n",
       "      <td>Unknown</td>\n",
       "      <td>Tennessee</td>\n",
       "      <td>NaN</td>\n",
       "      <td>307</td>\n",
       "      <td>17</td>\n",
       "    </tr>\n",
       "    <tr>\n",
       "      <th>25785</th>\n",
       "      <td>2020-04-01</td>\n",
       "      <td>Shelby</td>\n",
       "      <td>Tennessee</td>\n",
       "      <td>47157.0</td>\n",
       "      <td>496</td>\n",
       "      <td>3</td>\n",
       "    </tr>\n",
       "    <tr>\n",
       "      <th>25733</th>\n",
       "      <td>2020-04-01</td>\n",
       "      <td>Davidson</td>\n",
       "      <td>Tennessee</td>\n",
       "      <td>47037.0</td>\n",
       "      <td>673</td>\n",
       "      <td>4</td>\n",
       "    </tr>\n",
       "  </tbody>\n",
       "</table>\n",
       "<p>85 rows × 6 columns</p>\n",
       "</div>"
      ],
      "text/plain": [
       "             date      county      state     fips  cases  deaths\n",
       "25758  2020-04-01  Lauderdale  Tennessee  47097.0      1       0\n",
       "25751  2020-04-01       Henry  Tennessee  47079.0      1       0\n",
       "25752  2020-04-01     Hickman  Tennessee  47081.0      1       0\n",
       "25753  2020-04-01     Houston  Tennessee  47083.0      1       0\n",
       "25738  2020-04-01    Fentress  Tennessee  47049.0      1       0\n",
       "...           ...         ...        ...      ...    ...     ...\n",
       "25799  2020-04-01  Williamson  Tennessee  47187.0    148       2\n",
       "25788  2020-04-01      Sumner  Tennessee  47165.0    201       7\n",
       "25793  2020-04-01     Unknown  Tennessee      NaN    307      17\n",
       "25785  2020-04-01      Shelby  Tennessee  47157.0    496       3\n",
       "25733  2020-04-01    Davidson  Tennessee  47037.0    673       4\n",
       "\n",
       "[85 rows x 6 columns]"
      ]
     },
     "execution_count": 49,
     "metadata": {},
     "output_type": "execute_result"
    }
   ],
   "source": [
    "state = 'Tennessee'\n",
    "date = '2020-04-01'\n",
    "us_counties.loc[ (us_counties['state']==state) & (us_counties['date']==date)].sort_values(by='cases')"
   ]
  },
  {
   "cell_type": "code",
   "execution_count": null,
   "metadata": {},
   "outputs": [],
   "source": []
  },
  {
   "cell_type": "code",
   "execution_count": null,
   "metadata": {},
   "outputs": [],
   "source": []
  },
  {
   "cell_type": "code",
   "execution_count": 22,
   "metadata": {
    "ExecuteTime": {
     "end_time": "2020-04-02T22:58:00.547065Z",
     "start_time": "2020-04-02T22:58:00.531831Z"
    }
   },
   "outputs": [
    {
     "data": {
      "text/plain": [
       "(83889, 1941)"
      ]
     },
     "execution_count": 22,
     "metadata": {},
     "output_type": "execute_result"
    }
   ],
   "source": [
    "state = 'New York'\n",
    "\n",
    "us_states.loc[ (us_states['state']==state) & (us_states['date']==date1)]['cases'].sum(),\\\n",
    "us_states.loc[ (us_states['state']==state) & (us_states['date']==date1)]['deaths'].sum()"
   ]
  },
  {
   "cell_type": "code",
   "execution_count": 23,
   "metadata": {
    "ExecuteTime": {
     "end_time": "2020-04-02T22:58:08.460070Z",
     "start_time": "2020-04-02T22:58:08.430956Z"
    }
   },
   "outputs": [
    {
     "data": {
      "text/plain": [
       "(83890, 1652)"
      ]
     },
     "execution_count": 23,
     "metadata": {},
     "output_type": "execute_result"
    }
   ],
   "source": [
    "state = 'New York'\n",
    "\n",
    "us_counties.loc[ (us_counties['state']==state) & (us_counties['date']==date1)]['cases'].sum(),\\\n",
    "us_counties.loc[ (us_counties['state']==state) & (us_counties['date']==date1)]['deaths'].sum()"
   ]
  }
 ],
 "metadata": {
  "kernelspec": {
   "display_name": "Python 3",
   "language": "python",
   "name": "python3"
  },
  "language_info": {
   "codemirror_mode": {
    "name": "ipython",
    "version": 3
   },
   "file_extension": ".py",
   "mimetype": "text/x-python",
   "name": "python",
   "nbconvert_exporter": "python",
   "pygments_lexer": "ipython3",
   "version": "3.7.3"
  },
  "toc": {
   "base_numbering": 1,
   "nav_menu": {},
   "number_sections": true,
   "sideBar": true,
   "skip_h1_title": false,
   "title_cell": "Table of Contents",
   "title_sidebar": "Contents",
   "toc_cell": false,
   "toc_position": {},
   "toc_section_display": true,
   "toc_window_display": false
  },
  "varInspector": {
   "cols": {
    "lenName": 16,
    "lenType": 16,
    "lenVar": 40
   },
   "kernels_config": {
    "python": {
     "delete_cmd_postfix": "",
     "delete_cmd_prefix": "del ",
     "library": "var_list.py",
     "varRefreshCmd": "print(var_dic_list())"
    },
    "r": {
     "delete_cmd_postfix": ") ",
     "delete_cmd_prefix": "rm(",
     "library": "var_list.r",
     "varRefreshCmd": "cat(var_dic_list()) "
    }
   },
   "types_to_exclude": [
    "module",
    "function",
    "builtin_function_or_method",
    "instance",
    "_Feature"
   ],
   "window_display": false
  }
 },
 "nbformat": 4,
 "nbformat_minor": 2
}
